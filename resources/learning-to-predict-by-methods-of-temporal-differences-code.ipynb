{
 "cells": [
  {
   "cell_type": "markdown",
   "metadata": {},
   "source": [
    "The goal is to reproduce figures 3, 4 and 5 from this paper\n",
    "http://incompleteideas.net/papers/sutton-88-with-erratum.pdf"
   ]
  },
  {
   "cell_type": "markdown",
   "metadata": {},
   "source": [
    "# generating the training data:"
   ]
  },
  {
   "cell_type": "code",
   "execution_count": 1,
   "metadata": {},
   "outputs": [
    {
     "data": {
      "text/plain": [
       "[array([0, 0, 1, 0, 0]),\n",
       " array([0, 1, 0, 0, 0]),\n",
       " array([1, 0, 0, 0, 0]),\n",
       " array([0, 1, 0, 0, 0]),\n",
       " array([1, 0, 0, 0, 0]),\n",
       " 0]"
      ]
     },
     "execution_count": 1,
     "metadata": {},
     "output_type": "execute_result"
    }
   ],
   "source": [
    "# generate data\n",
    "import random\n",
    "\n",
    "import numpy as np\n",
    "\n",
    "random.seed(42)\n",
    "\n",
    "N_TRAIN_SETS = 100\n",
    "N_SEQUENCES = 10\n",
    "\n",
    "train_sets = []\n",
    "\n",
    "for _ in range(N_TRAIN_SETS):\n",
    "    \n",
    "    train_set = []\n",
    "    \n",
    "    for _ in range(N_SEQUENCES):\n",
    "        \n",
    "        state = np.array([0, 0, 1, 0, 0])\n",
    "        sequence = [state]\n",
    "        \n",
    "        # random walk\n",
    "        while type(sequence[-1]) is not int:\n",
    "            move_right = random.randint(0, 1)\n",
    "            if move_right:\n",
    "                state = np.roll(state, 1)\n",
    "                if np.nonzero(state)[0][0] == 0:\n",
    "                    state = 1\n",
    "            else:\n",
    "                state = np.roll(state, -1)\n",
    "                if np.nonzero(state)[0][0] == 4:\n",
    "                    state = 0\n",
    "            sequence.append(state)\n",
    "        \n",
    "        train_set.append(sequence)\n",
    "    \n",
    "    train_sets.append(train_set)\n",
    "\n",
    "# single example\n",
    "train_sets[0][0]"
   ]
  },
  {
   "cell_type": "markdown",
   "metadata": {},
   "source": [
    "# Replicating figure 3:"
   ]
  },
  {
   "cell_type": "code",
   "execution_count": 2,
   "metadata": {},
   "outputs": [
    {
     "data": {
      "text/plain": [
       "<matplotlib.axes._subplots.AxesSubplot at 0x115da9fd0>"
      ]
     },
     "execution_count": 2,
     "metadata": {},
     "output_type": "execute_result"
    },
    {
     "data": {
      "image/png": "[encoded data removed]",
      "text/plain": [
       "<Figure size 432x288 with 1 Axes>"
      ]
     },
     "metadata": {},
     "output_type": "display_data"
    }
   ],
   "source": [
    "# replicate figure 3\n",
    "import pandas as pd\n",
    "%matplotlib inline\n",
    "\n",
    "lambdas = [0, .1, .3, .5, .7, .9, 1.0]\n",
    "learning_rates = [.001, .01, .1, .15, .2, .25, .3]\n",
    "true_probabilities = np.array([1/6, 1/3, 1/2, 2/3, 5/6])\n",
    "\n",
    "\n",
    "# if |max weight update| < this, we've converged\n",
    "converged_thresh = .01 \n",
    "\n",
    "# results[lambda_value][alpha_value][train_set_index] -> RMSE\n",
    "results = {}\n",
    "\n",
    "# store weight updates\n",
    "weight_history = []\n",
    "\n",
    "for lambda_ in lambdas:\n",
    "    results[lambda_] = {}\n",
    "    for alpha in learning_rates:\n",
    "        #print(f'new model: lambda = {lambda_}, alpha = {alpha}')\n",
    "        weights = np.zeros(5) * .5 # initialize to .5\n",
    "  \n",
    "        if alpha not in results[lambda_]:\n",
    "            results[lambda_][alpha] = []\n",
    "        \n",
    "        for train_set_i, train_set in enumerate(train_sets): \n",
    "            \n",
    "            accumulated_delta_weights = None\n",
    "            iteration_count = 0\n",
    "            \n",
    "            while accumulated_delta_weights is None or np.amax(abs(accumulated_delta_weights)) > converged_thresh:\n",
    "\n",
    "                # first iteration\n",
    "                if accumulated_delta_weights is None:\n",
    "                    accumulated_delta_weights = np.zeros(5)\n",
    "\n",
    "                # non-converged iterations\n",
    "                else:\n",
    "                    weight_history.append(str(weights))\n",
    "                    weights += accumulated_delta_weights # update weights\n",
    "                    accumulated_delta_weights = np.zeros(5)\n",
    "                    \n",
    "                iteration_count += 1\n",
    "                \n",
    "                # if a weight exceeds 1.0/-1.0 we don't update accumulated_delta_weights & exit the while loop\n",
    "                if np.amax(abs(weights)) < 1.0:\n",
    "                    \n",
    "                    # compute next weight update\n",
    "                    for train_example_i, train_example in enumerate(train_set):              \n",
    "                        # compute predictions for each time step of this training example & append the label\n",
    "                        predictions = [np.dot(weights.T, state) for state in train_example[:-1]]\n",
    "                        predictions.append(train_example[-1])\n",
    "\n",
    "                        # compute weight updates for each time step of this episode\n",
    "                        this_train_example_delta_weights = []\n",
    "                        for t, state in enumerate(train_example[:-1]):\n",
    "                            td_error = alpha * (predictions[t+1] - predictions[t])\n",
    "                            td_gradients = np.zeros(5)\n",
    "                            for k in range(t + 1):\n",
    "                                td_gradients += train_example[k] * pow(lambda_, t - k)\n",
    "\n",
    "                            this_train_example_delta_weights.append(td_error * td_gradients)\n",
    "\n",
    "                        for e in this_train_example_delta_weights:\n",
    "                            accumulated_delta_weights += e\n",
    "                        #accumulated_delta_weights += sum(this_train_example_delta_weights)\n",
    "                    \n",
    "            # weights have converged for this train_set, calculate final RMSE \n",
    "            # using true_probabilities and add it to the results dict\n",
    "            train_set_errors = []\n",
    "            \n",
    "            for train_example in train_set:\n",
    "                # predict as usual, but don't pad it with the label\n",
    "                predictions = [np.dot(weights.T, state) for state in train_example[:-1]]\n",
    "                \n",
    "                # compute errors using true_probabilities\n",
    "                train_example_errors = [\n",
    "                    np.dot(weights.T, state) - \n",
    "                    np.dot(true_probabilities.T, state)\n",
    "                    for i, state in enumerate(train_example[:-1])\n",
    "                ]\n",
    "                \n",
    "                # square and divide\n",
    "                train_example_errors = [pow(err, 2) / len(train_example_errors) for err in train_example_errors]\n",
    "            \n",
    "                # sum and square root\n",
    "                train_example_rmse = pow(sum(train_example_errors), .5)\n",
    "                train_set_errors.append(train_example_rmse)\n",
    "                \n",
    "                \n",
    "            # store average RMSE across train_examples\n",
    "            results[lambda_][alpha].append(sum(train_set_errors) / len(train_set_errors))\n",
    "        \n",
    "        # average out RMSE for each train set into one value in results[lambda_][alpha]\n",
    "        results[lambda_][alpha] = sum(results[lambda_][alpha]) / len(results[lambda_][alpha])\n",
    "        \n",
    "df_raw = [] # rows of lambda, best_avg_rmse\n",
    "for lambda_, lambda_results in results.items():\n",
    "    df_raw.append([lambda_, min(lambda_results.values())])\n",
    "\n",
    "figure_3_df = pd.DataFrame(data=df_raw, columns=['lambda', 'best_error'])\n",
    "figure_3_df.plot.line(x='lambda', y='best_error')"
   ]
  },
  {
   "cell_type": "markdown",
   "metadata": {},
   "source": [
    "this looks exactly like the erratum"
   ]
  },
  {
   "cell_type": "markdown",
   "metadata": {},
   "source": [
    "# replicating figure 4\n",
    "\n",
    "changes from last setup:\n",
    "- each train set is presented once\n",
    "- weight updates are performed after each sequence (episode)\n",
    "- weights are initialized to .5 and reset after each train set\n",
    "\n",
    "we calculate RMSE across a known combination of alpha/lambda values and plot them all"
   ]
  },
  {
   "cell_type": "code",
   "execution_count": 3,
   "metadata": {},
   "outputs": [
    {
     "data": {
      "image/png": "[encoded data removed]",
      "text/plain": [
       "<Figure size 432x288 with 1 Axes>"
      ]
     },
     "metadata": {},
     "output_type": "display_data"
    }
   ],
   "source": [
    "# replicate figure 4.\n",
    "import matplotlib.pyplot as plt\n",
    "lambdas = [0, .3, .8, 1.0]\n",
    "learning_rates = [0, .05, .1, .15, .2, .25, .3, .35, .4, .45, .5, .55, .6]\n",
    "true_probabilities = np.array([1/6, 1/3, 1/2, 2/3, 5/6])\n",
    "results = {}\n",
    "weight_history = []\n",
    "\n",
    "for lambda_ in lambdas:\n",
    "    results[lambda_] = {}\n",
    "    for alpha in learning_rates:\n",
    "  \n",
    "        if alpha not in results[lambda_]:\n",
    "            results[lambda_][alpha] = []\n",
    "        \n",
    "        rmses = [] # rmse for each train_set\n",
    "        \n",
    "        for train_set_i, train_set in enumerate(train_sets):\n",
    "            \n",
    "            weights = np.ones(5) * .5\n",
    "            train_set_rmses = [] # rmse for each training example\n",
    "            \n",
    "            # this time we iterate each train example once and update the weights right away\n",
    "            for train_example_i, train_example in enumerate(train_set): \n",
    "                \n",
    "                # compute predictions for each time step of this training example & append the label\n",
    "                predictions = [np.dot(weights.T, state) for state in train_example[:-1]]\n",
    "                predictions.append(train_example[-1])\n",
    "                \n",
    "                # compute weight updates for each time step of this episode\n",
    "                this_train_example_delta_weights = []\n",
    "                for t, state in enumerate(train_example[:-1]):\n",
    "                    td_error = alpha * (predictions[t+1] - predictions[t])\n",
    "                    td_gradients = np.zeros(5)\n",
    "                    for k in range(t + 1):\n",
    "                        td_gradients += train_example[k] * pow(lambda_, t - k)\n",
    "\n",
    "                    this_train_example_delta_weights.append(td_error * td_gradients)\n",
    "\n",
    "                # update weights right away\n",
    "                for e in this_train_example_delta_weights:\n",
    "                    weights += e\n",
    "                \n",
    "                # compute RMSE _after_ the weight update\n",
    "                train_example_error = [\n",
    "                    np.dot(weights.T, state) - \n",
    "                    np.dot(true_probabilities.T, state)\n",
    "                    for i, state in enumerate(train_example[:-1])\n",
    "                ]\n",
    "                train_example_error = [pow(err, 2) / len(train_example_error) for err in train_example_error]\n",
    "                train_set_rmses.append(pow(sum(train_example_error), .5))\n",
    "                \n",
    "            # average out rmses for this rain set and store\n",
    "            rmses.append(sum(train_set_rmses) / len(train_set_rmses))\n",
    "     \n",
    "        # store final average error across train sets\n",
    "        results[lambda_][alpha] = sum(rmses) / len(rmses)\n",
    "        \n",
    "df_raw = [] # rows of lambda, alpha, rmse\n",
    "for lambda_, lambda_results in results.items():\n",
    "    for alpha, rmse in lambda_results.items():\n",
    "        df_raw.append([lambda_, alpha, rmse])\n",
    "\n",
    "figure_4_df = pd.DataFrame(data=df_raw, columns=['lambda', 'alpha', 'error'])\n",
    "\n",
    "fig, ax = plt.subplots()\n",
    "\n",
    "for key, grp in figure_4_df.groupby(['lambda']):\n",
    "    ax = grp.plot(ax=ax, kind='line', x='alpha', y='error', label=key)\n",
    "\n",
    "plt.legend(loc='best')\n",
    "plt.show()"
   ]
  },
  {
   "cell_type": "markdown",
   "metadata": {},
   "source": [
    "# replicating figure 5\n",
    "\n",
    "the setup is the same as figure 4, but instead of plotting every alpha/lambda combination we use the best alpha for each lambda."
   ]
  },
  {
   "cell_type": "code",
   "execution_count": 4,
   "metadata": {},
   "outputs": [
    {
     "data": {
      "text/plain": [
       "<matplotlib.axes._subplots.AxesSubplot at 0x115e3eb38>"
      ]
     },
     "execution_count": 4,
     "metadata": {},
     "output_type": "execute_result"
    },
    {
     "data": {
      "image/png": "[encoded data removed]",
      "text/plain": [
       "<Figure size 432x288 with 1 Axes>"
      ]
     },
     "metadata": {},
     "output_type": "display_data"
    }
   ],
   "source": [
    "# replicate figure 5. attempt v1.\n",
    "lambdas = [0, .1, .2, .3, .4, .5, .6, .7, .8, .9, 1.0]\n",
    "learning_rates = [0, .05, .1, .15, .2, .25, .3, .35, .4, .45, .5, .55, .6]\n",
    "true_probabilities = np.array([1/6, 1/3, 1/2, 2/3, 5/6])\n",
    "converged_thresh = .1 \n",
    "results = {}\n",
    "weight_history = []\n",
    "\n",
    "for lambda_ in lambdas:\n",
    "    results[lambda_] = {}\n",
    "    for alpha in learning_rates:\n",
    "  \n",
    "        if alpha not in results[lambda_]:\n",
    "            results[lambda_][alpha] = []\n",
    "        \n",
    "        rmses = [] # rmse for each train_set\n",
    "        \n",
    "        for train_set_i, train_set in enumerate(train_sets): \n",
    "            weights = np.ones(5) * .5\n",
    "            train_set_rmses = [] \n",
    "            \n",
    "            # this time we iterate each train example once and update the weights right away\n",
    "            for train_example_i, train_example in enumerate(train_set): \n",
    "                \n",
    "                # compute predictions for each time step of this training example & append the label\n",
    "                predictions = [np.dot(weights.T, state) for state in train_example[:-1]]\n",
    "                predictions.append(train_example[-1])\n",
    "                \n",
    "                # compute RMSE on this training example and add it to train_set_rmses\n",
    "                train_example_error = [\n",
    "                    np.dot(weights.T, state) - \n",
    "                    np.dot(true_probabilities.T, state)\n",
    "                    for i, state in enumerate(train_example[:-1])\n",
    "                ]\n",
    "                train_example_error = [pow(err, 2) / len(train_example_error) for err in train_example_error]\n",
    "                train_set_rmses.append(pow(sum(train_example_error), .5))\n",
    "                \n",
    "                # compute weight updates for each time step of this episode\n",
    "                this_train_example_delta_weights = []\n",
    "                for t, state in enumerate(train_example[:-1]):\n",
    "                    td_error = alpha * (predictions[t+1] - predictions[t])\n",
    "                    td_gradients = np.zeros(5)\n",
    "                    for k in range(t + 1):\n",
    "                        td_gradients += train_example[k] * pow(lambda_, t - k)\n",
    "\n",
    "                    this_train_example_delta_weights.append(td_error * td_gradients)\n",
    "\n",
    "                # update weights right away\n",
    "                for e in this_train_example_delta_weights:\n",
    "                    weights += e\n",
    "\n",
    "            # average out rmses for this rain set and store\n",
    "            rmses.append(sum(train_set_rmses) / len(train_set_rmses))\n",
    "     \n",
    "        # store final average error \n",
    "        results[lambda_][alpha] = sum(rmses) / len(rmses)\n",
    "        \n",
    "df_raw = [] # rows of lambda, best rmse\n",
    "for lambda_, lambda_results in results.items():\n",
    "    df_raw.append([lambda_, min(lambda_results.values())])\n",
    "\n",
    "figure_5_df = pd.DataFrame(data=df_raw, columns=['lambda', 'best_error'])\n",
    "figure_5_df.plot.line(x='lambda', y='best_error')"
   ]
  }
 ],
 "metadata": {
  "kernelspec": {
   "display_name": "Python 3",
   "language": "python",
   "name": "python3"
  },
  "language_info": {
   "codemirror_mode": {
    "name": "ipython",
    "version": 3
   },
   "file_extension": ".py",
   "mimetype": "text/x-python",
   "name": "python",
   "nbconvert_exporter": "python",
   "pygments_lexer": "ipython3",
   "version": "3.6.4"
  }
 },
 "nbformat": 4,
 "nbformat_minor": 2
}
